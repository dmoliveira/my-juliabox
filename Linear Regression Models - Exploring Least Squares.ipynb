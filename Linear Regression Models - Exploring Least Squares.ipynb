{
 "cells": [
  {
   "cell_type": "markdown",
   "metadata": {},
   "source": [
    "# Linear Regression Models"
   ]
  },
  {
   "cell_type": "markdown",
   "metadata": {},
   "source": [
    "*Least Squares Estimators* The estimators $b_{0}$ and $b_{1}$ that satisfy the least squares criterion can be found in two basic ways:\n",
    "1. Numerical search procedures\n",
    "2. Analytical procedures"
   ]
  },
  {
   "cell_type": "markdown",
   "metadata": {},
   "source": [
    "## Explore Analytical Procedures"
   ]
  },
  {
   "cell_type": "markdown",
   "metadata": {},
   "source": [
    "### Data Sample"
   ]
  },
  {
   "cell_type": "markdown",
   "metadata": {},
   "source": [
    "Subject i    | 1 | 2 | 3 \n",
    "------------:|---|---|---\n",
    "Age $X_i$    | 20| 55| 30\n",
    "Number of attemps $Y_i$|5|12|10"
   ]
  },
  {
   "cell_type": "code",
   "execution_count": 2,
   "metadata": {
    "collapsed": false
   },
   "outputs": [],
   "source": [
    "X = [20; 55; 30];\n",
    "Y = [5; 12; 10];"
   ]
  },
  {
   "cell_type": "markdown",
   "metadata": {},
   "source": [
    "### Analytical Procedure"
   ]
  },
  {
   "cell_type": "markdown",
   "metadata": {},
   "source": [
    "$\\begin{align}\n",
    "    \\sum{Y_i} &= n b_0 + b_1\\sum{X_i}\\\\\n",
    "    \\sum{Y_iX_i} &= n b_0\\sum{X_i} + b_1\\sum{X_{i}^{2}}\n",
    "\\end{align}$\n",
    "\n",
    "$\\begin{align}\n",
    "b_1 &= \\frac{\\sum{(X_i-\\bar{X})(Y_i-\\bar{Y})}}{\\sum{(X_i-\\bar{X})^2}}\\\\\n",
    "b_0 &= \\frac{1}{n}(\\sum{Y_i-b_1\\sum{X_i}}) = \\bar{Y} - b_1\\bar{X}\n",
    "\\end{align}$"
   ]
  },
  {
   "cell_type": "markdown",
   "metadata": {},
   "source": [
    "Let's estimates:"
   ]
  },
  {
   "cell_type": "code",
   "execution_count": 40,
   "metadata": {
    "collapsed": false
   },
   "outputs": [
    {
     "name": "stdout",
     "output_type": "stream",
     "text": [
      "Coef: bo=2.8076923076923075 and b1=0.17692307692307693\n"
     ]
    }
   ],
   "source": [
    "xmean = mean(X)\n",
    "ymean = mean(Y)\n",
    "b1 = ((X - xmean)'*(Y - ymean))/sum((X - xmean).^2)\n",
    "b0_1 = 1/length(Y)*(sum(Y)-b1*sum(X))\n",
    "b0_2 = ymean - b1*xmean\n",
    "\n",
    "println(\"Coef: bo=$(b0_1[1]) and b1=$(b1[1])\")"
   ]
  },
  {
   "cell_type": "markdown",
   "metadata": {},
   "source": [
    "$\\hat{Y_i} = 2.81 + .177X_i$"
   ]
  }
 ],
 "metadata": {
  "kernelspec": {
   "display_name": "Julia 0.4.1-pre",
   "language": "julia",
   "name": "julia-0.4"
  },
  "language_info": {
   "file_extension": ".jl",
   "mimetype": "application/julia",
   "name": "julia",
   "version": "0.4.1"
  }
 },
 "nbformat": 4,
 "nbformat_minor": 0
}
